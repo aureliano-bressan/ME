{
  "nbformat": 4,
  "nbformat_minor": 0,
  "metadata": {
    "colab": {
      "provenance": [],
      "authorship_tag": "ABX9TyOybMeLHb1xCQKjH4W9W6QO",
      "include_colab_link": true
    },
    "kernelspec": {
      "name": "python3",
      "display_name": "Python 3"
    },
    "language_info": {
      "name": "python"
    }
  },
  "cells": [
    {
      "cell_type": "markdown",
      "metadata": {
        "id": "view-in-github",
        "colab_type": "text"
      },
      "source": [
        "<a href=\"https://colab.research.google.com/github/aureliano-bressan/ME/blob/main/Colab_CAD208_Aula3_FormasFuncionais.ipynb\" target=\"_parent\"><img src=\"https://colab.research.google.com/assets/colab-badge.svg\" alt=\"Open In Colab\"/></a>"
      ]
    },
    {
      "cell_type": "code",
      "source": [
        "import numpy as np\n",
        "import wooldridge as woo\n",
        "import statsmodels.formula.api as smf"
      ],
      "metadata": {
        "collapsed": true,
        "id": "GLykg-eYyr9B",
        "outputId": "f170ed30-5ef9-4210-fef5-f756ed376d54",
        "colab": {
          "base_uri": "https://localhost:8080/",
          "height": 349
        }
      },
      "execution_count": 1,
      "outputs": [
        {
          "output_type": "error",
          "ename": "ModuleNotFoundError",
          "evalue": "No module named 'wooldridge'",
          "traceback": [
            "\u001b[0;31m---------------------------------------------------------------------------\u001b[0m",
            "\u001b[0;31mModuleNotFoundError\u001b[0m                       Traceback (most recent call last)",
            "\u001b[0;32m/tmp/ipython-input-3423032267.py\u001b[0m in \u001b[0;36m<cell line: 0>\u001b[0;34m()\u001b[0m\n\u001b[1;32m      1\u001b[0m \u001b[0;32mimport\u001b[0m \u001b[0mnumpy\u001b[0m \u001b[0;32mas\u001b[0m \u001b[0mnp\u001b[0m\u001b[0;34m\u001b[0m\u001b[0;34m\u001b[0m\u001b[0m\n\u001b[0;32m----> 2\u001b[0;31m \u001b[0;32mimport\u001b[0m \u001b[0mwooldridge\u001b[0m \u001b[0;32mas\u001b[0m \u001b[0mwoo\u001b[0m\u001b[0;34m\u001b[0m\u001b[0;34m\u001b[0m\u001b[0m\n\u001b[0m\u001b[1;32m      3\u001b[0m \u001b[0;32mimport\u001b[0m \u001b[0mstatsmodels\u001b[0m\u001b[0;34m.\u001b[0m\u001b[0mformula\u001b[0m\u001b[0;34m.\u001b[0m\u001b[0mapi\u001b[0m \u001b[0;32mas\u001b[0m \u001b[0msmf\u001b[0m\u001b[0;34m\u001b[0m\u001b[0;34m\u001b[0m\u001b[0m\n",
            "\u001b[0;31mModuleNotFoundError\u001b[0m: No module named 'wooldridge'",
            "",
            "\u001b[0;31m---------------------------------------------------------------------------\u001b[0;32m\nNOTE: If your import is failing due to a missing package, you can\nmanually install dependencies using either !pip or !apt.\n\nTo view examples of installing some common dependencies, click the\n\"Open Examples\" button below.\n\u001b[0;31m---------------------------------------------------------------------------\u001b[0m\n"
          ],
          "errorDetails": {
            "actions": [
              {
                "action": "open_url",
                "actionText": "Open Examples",
                "url": "/notebooks/snippets/importing_libraries.ipynb"
              }
            ]
          }
        }
      ]
    },
    {
      "cell_type": "markdown",
      "source": [
        "Exemplo 1 da aula 4: Relação entre salário e tempo de estudo. *Como um ano adicional de estudo afeta o salário médio anual?*"
      ],
      "metadata": {
        "id": "xpr48syTyswF"
      }
    },
    {
      "cell_type": "code",
      "execution_count": 3,
      "metadata": {
        "id": "YMyE1P_SyoDW",
        "colab": {
          "base_uri": "https://localhost:8080/",
          "height": 211
        },
        "outputId": "c166ea2d-60fe-4506-e14e-669d83370574"
      },
      "outputs": [
        {
          "output_type": "error",
          "ename": "NameError",
          "evalue": "name 'woo' is not defined",
          "traceback": [
            "\u001b[0;31m---------------------------------------------------------------------------\u001b[0m",
            "\u001b[0;31mNameError\u001b[0m                                 Traceback (most recent call last)",
            "\u001b[0;32m/tmp/ipython-input-184567512.py\u001b[0m in \u001b[0;36m<cell line: 0>\u001b[0;34m()\u001b[0m\n\u001b[0;32m----> 1\u001b[0;31m \u001b[0mwage1\u001b[0m \u001b[0;34m=\u001b[0m \u001b[0mwoo\u001b[0m\u001b[0;34m.\u001b[0m\u001b[0mdataWoo\u001b[0m\u001b[0;34m(\u001b[0m\u001b[0;34m'wage1'\u001b[0m\u001b[0;34m)\u001b[0m\u001b[0;34m\u001b[0m\u001b[0;34m\u001b[0m\u001b[0m\n\u001b[0m\u001b[1;32m      2\u001b[0m \u001b[0;34m\u001b[0m\u001b[0m\n\u001b[1;32m      3\u001b[0m \u001b[0;31m# modelo log-linear:\u001b[0m\u001b[0;34m\u001b[0m\u001b[0;34m\u001b[0m\u001b[0m\n\u001b[1;32m      4\u001b[0m \u001b[0mreg\u001b[0m \u001b[0;34m=\u001b[0m \u001b[0msmf\u001b[0m\u001b[0;34m.\u001b[0m\u001b[0mols\u001b[0m\u001b[0;34m(\u001b[0m\u001b[0mformula\u001b[0m\u001b[0;34m=\u001b[0m\u001b[0;34m'np.log(wage) ~ educ'\u001b[0m\u001b[0;34m,\u001b[0m \u001b[0mdata\u001b[0m\u001b[0;34m=\u001b[0m\u001b[0mwage1\u001b[0m\u001b[0;34m)\u001b[0m\u001b[0;34m\u001b[0m\u001b[0;34m\u001b[0m\u001b[0m\n\u001b[1;32m      5\u001b[0m \u001b[0mresults1\u001b[0m \u001b[0;34m=\u001b[0m \u001b[0mreg\u001b[0m\u001b[0;34m.\u001b[0m\u001b[0mfit\u001b[0m\u001b[0;34m(\u001b[0m\u001b[0;34m)\u001b[0m\u001b[0;34m\u001b[0m\u001b[0;34m\u001b[0m\u001b[0m\n",
            "\u001b[0;31mNameError\u001b[0m: name 'woo' is not defined"
          ]
        }
      ],
      "source": [
        "wage1 = woo.dataWoo('wage1')\n",
        "\n",
        "# modelo log-linear:\n",
        "reg = smf.ols(formula='np.log(wage) ~ educ', data=wage1)\n",
        "results1 = reg.fit()\n",
        "b = results.params\n",
        "print(f'b: \\n{b}\\n')"
      ]
    },
    {
      "cell_type": "code",
      "source": [
        "# resultados padrão:\n",
        "print(results1.summary())"
      ],
      "metadata": {
        "id": "jS2vYY7k5tM1"
      },
      "execution_count": null,
      "outputs": []
    },
    {
      "cell_type": "markdown",
      "source": [
        "Exemplo 2 da aula 4: Salário de CEO's e vendas de empresas. *Será que empresas que vendem mais pagam melhores salários?*"
      ],
      "metadata": {
        "id": "mXF0zE9tyqoq"
      }
    },
    {
      "cell_type": "code",
      "source": [
        "ceosal1 = woo.dataWoo('ceosal1')\n",
        "\n",
        "# estimando o modelo log-log (elasticidade constante):\n",
        "reg = smf.ols(formula='np.log(salary) ~ np.log(sales)', data=ceosal1)\n",
        "results2 = reg.fit()\n",
        "print(results2.summary())\n"
      ],
      "metadata": {
        "id": "TzoBv8rFz6Qx"
      },
      "execution_count": null,
      "outputs": []
    },
    {
      "cell_type": "markdown",
      "source": [
        "Representação gráfica do ex. 2"
      ],
      "metadata": {
        "id": "_fISwex75__Q"
      }
    },
    {
      "cell_type": "code",
      "source": [
        "import matplotlib.pyplot as plt\n",
        "\n",
        "# Transformação dos dados\n",
        "x = np.log(ceosal1['sales'])\n",
        "y = np.log(ceosal1['salary'])\n",
        "\n",
        "# Comando para o diagrama de dispersão\n",
        "plt.scatter(x, y)\n",
        "\n",
        "# Adicionando a linha de regressão estimada\n",
        "predictions = results2.predict()\n",
        "plt.plot(x, predictions, color='red')\n",
        "\n",
        "# Definindo os títulos dos eixos\n",
        "plt.xlabel('Log(Sales)')\n",
        "plt.ylabel('Log(Salary)')\n",
        "\n",
        "# Apresentar o gráfico\n",
        "plt.show()"
      ],
      "metadata": {
        "id": "JiQdpk067T6H"
      },
      "execution_count": null,
      "outputs": []
    }
  ]
}